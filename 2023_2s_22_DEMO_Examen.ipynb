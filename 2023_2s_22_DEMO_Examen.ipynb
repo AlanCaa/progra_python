{
  "cells": [
    {
      "cell_type": "markdown",
      "metadata": {
        "id": "view-in-github",
        "colab_type": "text"
      },
      "source": [
        "<a href=\"https://colab.research.google.com/github/AlanCaa/progra_python/blob/main/2023_2s_22_DEMO_Examen.ipynb\" target=\"_parent\"><img src=\"https://colab.research.google.com/assets/colab-badge.svg\" alt=\"Open In Colab\"/></a>"
      ]
    },
    {
      "cell_type": "markdown",
      "metadata": {
        "id": "efHadp-bFuAY"
      },
      "source": [
        "# **DEMO Examen**"
      ]
    },
    {
      "cell_type": "markdown",
      "metadata": {
        "id": "lO92aRr_IX0b"
      },
      "source": [
        "| Matricula  | Nombre                           |\n",
        "|------------|----------------------------------|\n",
        "| 1954387    | Alan Josue Castillo Espinosa    |\n",
        "| 2055488    | Diego Esau Cavazos Zambrano     |\n",
        "| 2002049    | Ricardo Cortes Camarillo        |\n",
        "| 2006415    | Adrian Ontivero Tello           |\n"
      ]
    },
    {
      "cell_type": "markdown",
      "metadata": {
        "id": "oag6MUEIF4Jc"
      },
      "source": [
        "La fórmula para calcular grados centígrados a partir de grados Farenheit es la siguiente:\n",
        "\n",
        "```\n",
        "C=(F-32)/1.8\n",
        "```\n",
        "\n",
        "La temperatura del cuerpo tiene las siguientes temperaturas:\n",
        "\n",
        "|Rango|Nombre de estado|\n",
        "|---|---|\n",
        "|[*,35)|Hipotermia|\n",
        "|[35,37)|Normal|\n",
        "|[37,38)|Febrícula|\n",
        "|[38,41)|Fiebre|\n",
        "|[41,*)|Hiperpirexia|\n",
        "\n",
        "En un hospital se hizo lectura de todos los pacientes de un piso. Desafortunadamente, solo se tenía un termónmetro que mide grados Farenheit.\n",
        "\n",
        "Se desea un programa que capture múltiples temperaturas, y que cuando se deje de capturar, muestre una lista de todas las lecturas tomadas.\n",
        "\n",
        "Se pide elaborar un programa en Python que contenga:\n",
        "\n",
        "1.  Una función llamada **capturar_f**, que pregunte un dato y que valide lo sigiente:\n",
        "    1. Que el dato no se omita.\n",
        "    1. Que el dato se apegue al patrón de uno a tres dígitos, un punto, y de una a tres decimales (debe validarse con regular expressions).\n",
        "    1. Que el valor convertido a floar esté entre 0.0 y 150.0\n",
        "    1. La función recibe como argumento un parámetro llamado **prompt**, que deberá tener un valor por omisión de \"Dame un número flotante:\"\n",
        "    1. La función retorna un valor flotante, que corrsponde a una conversión a float de lo capturado.\n",
        "    1. La función pregunta el dato hasta que sea correcto.\n",
        "    1. La función muestra mensajes de error de 3 niveles (Error, detalle, llamada a la acción).\n",
        "\n",
        "1. El programa debe definir una clase llamada **lectura**, que contenga lo siguiente:\n",
        "    1. **grados_f**: Es un atributo expuesto, de tipo float, que corresponde a la temperatura del paciente.\n",
        "    1. **grados_c**: Es una propiedad expuesta, que calcula el equivalente a centígrados de **grados_f**.\n",
        "    1. **estado**: Es una propiedad expuesta, que determina el estado de temperatura de la persona, de acuerdo a la tabla de estados.\n",
        "    1. **mostrar_lectura**: Es un método que muestra en consola el siguiente mensaje:\n",
        "\n",
        "```\n",
        "Farenheit: {grados_f}\n",
        "Centigrados: {grados_c}\n",
        "Estado: {estado}\n",
        "```\n",
        "\n",
        "La clase debe tener un método constructor, que reciba la propiedad **grados_f**.\n",
        "\n",
        "El programa principal debe hacer lo siguiente.\n",
        "\n",
        "1. Declarar una lista llamada **lecturas**, que almacenará todos los objetos de tipo **lectura** que se generen.\n",
        "1. Deberá iniciar un ciclo infinito.\n",
        "    1. Deberá preguntar la lectura usando la función **capturar_f**, especificando como prompt el texto \"Dame la temperatura del paciente:\"\n",
        "    1. Recibido el dato, se debe agregar a la lista de objetos (**lecturas**) una instancia de **lectura**, donde se utilice el dato capturado.\n",
        "    1. El programa debe preguntar si desea capturar una lectura más. Si es así, ``continue``, de lo contrario, ``break``.\n",
        "\n",
        "Fuera del ciclo, se debe leer de forma secuencial la lista de objetos, y ejecutar el método **mostrar_lectura**, para ver lo capturado.\n"
      ]
    },
    {
      "cell_type": "code",
      "execution_count": null,
      "metadata": {
        "colab": {
          "base_uri": "https://localhost:8080/"
        },
        "id": "ypzWcwlzFslu",
        "outputId": "e462276d-b095-469d-a736-9e565a212527"
      },
      "outputs": [
        {
          "output_type": "stream",
          "name": "stdout",
          "text": [
            "Dame la temperatura del paciente: 80.333\n",
            "Número flotante válido ingresado: 80.333\n"
          ]
        }
      ],
      "source": [
        "import re\n",
        "\n",
        "def capturar_f(prompt=\"Dame la temperatura del paciente: \"):\n",
        "    while True:\n",
        "        entrada = input(prompt)\n",
        "\n",
        "        if not entrada:\n",
        "            print(\"Error: El dato no puede estar vacío.\")\n",
        "            print(\"Detalle: Asegúrate de ingresar un valor.\")\n",
        "            print(\"Llamada de atención: Intenta nuevamente.\")\n",
        "            continue\n",
        "\n",
        "        # Utilizamos una expresión regular para validar el patrón\n",
        "        patron = r'^[0-9]{1,3}\\.[0-9]{1,3}$'\n",
        "        if not re.match(patron, entrada):\n",
        "            print(\"Error: El dato debe tener uno a tres dígitos, un punto y de una a tres decimales.\")\n",
        "            print(\"Detalle: Asegúrate de que el formato sea correcto.\")\n",
        "            print(\"Llamada de atención: Intenta nuevamente.\")\n",
        "            continue\n",
        "\n",
        "        valor_float = float(entrada)\n",
        "\n",
        "        if valor_float < 0.0 or valor_float > 150.0:\n",
        "            print(\"Error: El valor debe estar entre 0.0 y 150.0.\")\n",
        "            print(\"Detalle: Asegúrate de que el valor esté en el rango correcto.\")\n",
        "            print(\"Llamada de atención: Intenta nuevamente.\")\n",
        "            continue\n",
        "\n",
        "        return valor_float\n",
        "\n",
        "# Ejemplo de uso:\n",
        "numero = capturar_f()\n",
        "print(\"Número flotante válido ingresado:\", numero)"
      ]
    },
    {
      "cell_type": "code",
      "execution_count": null,
      "metadata": {
        "colab": {
          "base_uri": "https://localhost:8080/"
        },
        "id": "NSd3Wh5OygB8",
        "outputId": "cf79e71a-be5c-4218-82eb-090adea24709"
      },
      "outputs": [
        {
          "output_type": "stream",
          "name": "stdout",
          "text": [
            "Dame la temperatura del paciente: 80.333\n",
            "¿Quiere capturar mas lecturas?(s/n): s\n",
            "Dame la temperatura del paciente: 10.222\n",
            "¿Quiere capturar mas lecturas?(s/n): n\n",
            "Lectura 1: Farenheit: 80.333°F - Centigrados: 26.851666666666667°C - Estado: Hipotermia\n",
            "Lectura 2: Farenheit: 10.222°F - Centigrados: -12.098888888888888°C - Estado: None\n"
          ]
        }
      ],
      "source": [
        "class lectura():\n",
        "  def __init__(self, grados_f):\n",
        "    self.grados_f = grados_f\n",
        "  @property\n",
        "  def grados_c(self):\n",
        "    return (self.grados_f-32)/1.8\n",
        "  @property\n",
        "  def estado(self):\n",
        "    if(self.grados_c >= 0 and self.grados_c < 35):\n",
        "      return \"Hipotermia\"\n",
        "    elif (self.grados_c>=35 and self.grados_c<37):\n",
        "      return \"Normal\"\n",
        "    elif (self.grados_c>=37 and self.grados_c<38):\n",
        "      return \"Febricula\"\n",
        "    elif (self.grados_c>=38 and self.grados_c<41):\n",
        "      return \"Fiebre\"\n",
        "    elif (self.grados_c>=41):\n",
        "      return \"Hiperpirexia\"\n",
        "\n",
        "lecturas =[]\n",
        "\n",
        "while True:\n",
        "\n",
        "  temperatura = capturar_f()\n",
        "  lectura_ = lectura(temperatura)\n",
        "  lecturas.append(lectura_)\n",
        "  seguir = input(\"¿Quiere capturar mas lecturas?(s/n): \" )\n",
        "  if seguir == \"s\" or seguir == \"S\":\n",
        "    continue\n",
        "  elif seguir == \"n\" or seguir == \"N\":\n",
        "    break\n",
        "\n",
        "for i, lectura_ in enumerate(lecturas, start=1):\n",
        "  print(f\"Lectura {i}: Farenheit: {lectura_.grados_f}°F - Centigrados: {lectura_.grados_c}°C - Estado: {lectura_.estado}\")\n"
      ]
    }
  ],
  "metadata": {
    "colab": {
      "provenance": [],
      "include_colab_link": true
    },
    "kernelspec": {
      "display_name": "Python 3",
      "name": "python3"
    },
    "language_info": {
      "name": "python"
    }
  },
  "nbformat": 4,
  "nbformat_minor": 0
}